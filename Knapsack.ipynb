{
 "cells": [
  {
   "cell_type": "markdown",
   "metadata": {},
   "source": [
    "# Knapsack Problem"
   ]
  },
  {
   "cell_type": "markdown",
   "metadata": {},
   "source": [
    "The knapsack problem is a common problem in combinatorial optimization. Our objective in such problems, given a set of n items (each with a weight and a value), is to find the number of each item to include in a collection such that the total weight is less than or equal to a given limit and the total value is as large as possible. \n",
    "\n",
    "In simple terms, we want to gather the most valuable items without overloading our knapsack."
   ]
  },
  {
   "cell_type": "markdown",
   "metadata": {},
   "source": [
    "The two popular variants of this problem are:\n",
    "1. 0/1 knapsack problem\n",
    "2. Continous/fractional knapsack problem\n",
    "\n",
    "This post implements 1. "
   ]
  },
  {
   "cell_type": "markdown",
   "metadata": {},
   "source": [
    "Mathmatically: \n",
    "\n",
    "Maximize: \n",
    "$$\\sum\\limits_{n=0}^{n-1} V_i*X_i$$\n",
    "\n",
    "Subject to: \n",
    "$$\\sum\\limits_{n=0}^{n-1} W_i*X_i <= W$$\n",
    "\n",
    "where, X = item in {0,1} \n",
    "\n",
    "       W = weight\n",
    "       \n",
    "       V = value"
   ]
  },
  {
   "cell_type": "markdown",
   "metadata": {},
   "source": [
    "For this particular example consider that you are going on a short trip and can only carry a certain number of items among: book, pen, pencil, ipad, iphone, headphones, flask, food and a portable charger with a total value of 504.\n",
    "\n",
    "Now the question remains, what combination of these items will give you the higest bang for your buck? or in this case knapsack."
   ]
  },
  {
   "cell_type": "markdown",
   "metadata": {},
   "source": [
    "# Approach1: Greedy algorithm"
   ]
  },
  {
   "cell_type": "markdown",
   "metadata": {},
   "source": [
    "Step1: Create a class Knap which has functions for value, cost and density"
   ]
  },
  {
   "cell_type": "code",
   "execution_count": 1,
   "metadata": {
    "collapsed": true
   },
   "outputs": [],
   "source": [
    "#create a class for Knapsack\n",
    "class Knap(object):\n",
    "    def __init__(self, n, v, w):\n",
    "        self.name = n\n",
    "        self.value = v\n",
    "        self.weight = w\n",
    "    def getValue(self):\n",
    "        return self.value\n",
    "    def getCost(self):\n",
    "        return self.weight\n",
    "    def density(self):\n",
    "        return self.getValue()/self.getCost()\n",
    "    def __str__(self):\n",
    "        return self.name + ': <' + str(self.value)\\\n",
    "                 + ', ' + str(self.weight) + '>'"
   ]
  },
  {
   "cell_type": "markdown",
   "metadata": {},
   "source": [
    "Step2: Create a function for inputs"
   ]
  },
  {
   "cell_type": "code",
   "execution_count": 2,
   "metadata": {
    "collapsed": true
   },
   "outputs": [],
   "source": [
    "def buildInput(names, values, weight):\n",
    "    '''Accepts 3 different lists and returns a list'''\n",
    "    Input = []\n",
    "    for i in range(len(values)):\n",
    "        Input.append(Knap(names[i], values[i],\n",
    "                          weight[i]))\n",
    "    return Input\n"
   ]
  },
  {
   "cell_type": "markdown",
   "metadata": {},
   "source": [
    "Create a function to perform greedy optimization"
   ]
  },
  {
   "cell_type": "code",
   "execution_count": 3,
   "metadata": {
    "collapsed": true
   },
   "outputs": [],
   "source": [
    "#creating the greedy function\n",
    "def greedy(items, maxCost, keyFunction):\n",
    "    \"\"\"Assumes items a list, maxCost >= 0,\n",
    "         keyFunction maps elements of Items to numbers\"\"\"\n",
    "    itemsCopy = sorted(items, key = keyFunction,\n",
    "                       reverse = True)\n",
    "    result = []\n",
    "    totalValue, totalCost = 0.0, 0.0\n",
    "    for i in range(len(itemsCopy)):\n",
    "        if (totalCost+itemsCopy[i].getCost()) <= maxCost:\n",
    "            result.append(itemsCopy[i])\n",
    "            totalCost += itemsCopy[i].getCost()\n",
    "            totalValue += itemsCopy[i].getValue()\n",
    "    return (result, totalValue)\n"
   ]
  },
  {
   "cell_type": "code",
   "execution_count": 4,
   "metadata": {
    "collapsed": true
   },
   "outputs": [],
   "source": [
    "#Create a function to use greedy\n",
    "def testGreedy(items, constraint, keyFunction):\n",
    "    taken, val = greedy(items, constraint, keyFunction)\n",
    "    print('Total value of items taken =', val)\n",
    "    for item in taken:\n",
    "        print('   ', item)"
   ]
  },
  {
   "cell_type": "code",
   "execution_count": 5,
   "metadata": {
    "collapsed": true
   },
   "outputs": [],
   "source": [
    "#using greedy on 3 different use cases\n",
    "def testGreedys(inp, maxUnits):\n",
    "    '''Applies the testGreedy function for three use cases\n",
    "        value, cost, density'''\n",
    "    print('Use greedy by value to allocate a weight of', maxUnits)\n",
    "    testGreedy(inp, maxUnits, Knap.getValue)\n",
    "    print('\\nUse greedy by cost to allocate a weight of', maxUnits)\n",
    "    testGreedy(inp, maxUnits,\n",
    "               lambda x: 1/Knap.getCost(x))\n",
    "    print('\\nUse greedy by density to allocate a weight of', maxUnits)\n",
    "    testGreedy(inp, maxUnits, Knap.density)"
   ]
  },
  {
   "cell_type": "code",
   "execution_count": 6,
   "metadata": {},
   "outputs": [
    {
     "name": "stdout",
     "output_type": "stream",
     "text": [
      "Use greedy by value to allocate a weight of 800\n",
      "Total value of items taken = 264.0\n",
      "    iphone: <90, 365>\n",
      "    food: <80, 195>\n",
      "    headphones: <79, 150>\n",
      "    pen: <10, 50>\n",
      "    pencil: <5, 30>\n",
      "\n",
      "Use greedy by cost to allocate a weight of 800\n",
      "Total value of items taken = 224.0\n",
      "    pencil: <5, 30>\n",
      "    pen: <10, 50>\n",
      "    headphones: <79, 150>\n",
      "    flask: <50, 150>\n",
      "    food: <80, 195>\n",
      "\n",
      "Use greedy by density to allocate a weight of 800\n",
      "Total value of items taken = 224.0\n",
      "    headphones: <79, 150>\n",
      "    food: <80, 195>\n",
      "    flask: <50, 150>\n",
      "    pen: <10, 50>\n",
      "    pencil: <5, 30>\n"
     ]
    }
   ],
   "source": [
    "#list of inputs\n",
    "names = ['book', 'pen', 'pencil', 'ipad', 'iphone',\n",
    "         'headphones', 'flask', 'food', 'portable charger']\n",
    "values = [50,10,5,70,90,79,50,80,70]\n",
    "weight = [300,50,30,350,365,150,150,195,400]\n",
    "\n",
    "inp = buildInput(names, values, weight)\n",
    "#running the greedy algorithm \n",
    "testGreedys(inp, 800)"
   ]
  },
  {
   "cell_type": "markdown",
   "metadata": {},
   "source": [
    "Problems with greedy algorithms:\n",
    "\n",
    "1. We get stuck in a local optima. Therefore we do not find the best answer. \n",
    "2. Due to 1. we do not even know how good our solution is."
   ]
  },
  {
   "cell_type": "markdown",
   "metadata": {},
   "source": [
    "Advantages:\n",
    "\n",
    "1. nlogn complexity."
   ]
  },
  {
   "cell_type": "markdown",
   "metadata": {},
   "source": [
    "# Approach 2: Brute Force"
   ]
  },
  {
   "cell_type": "markdown",
   "metadata": {},
   "source": [
    "Intution behind a brute force algorithm is that it will check every possible answer and then choose the possible answer."
   ]
  },
  {
   "cell_type": "markdown",
   "metadata": {},
   "source": [
    "S1: Search tree implementation"
   ]
  },
  {
   "cell_type": "code",
   "execution_count": 7,
   "metadata": {
    "collapsed": true
   },
   "outputs": [],
   "source": [
    "def maxVal(toConsider, avail):\n",
    "    \"\"\"Assumes toConsider a list of items, avail a weight\n",
    "       Returns a tuple of the total value of a solution to the\n",
    "         0/1 knapsack problem and the items of that solution\"\"\"\n",
    "    if toConsider == [] or avail == 0:\n",
    "        result = (0, ())\n",
    "    elif toConsider[0].getCost() > avail:\n",
    "        #No need to explore left branch only look at right branch\n",
    "        result = maxVal(toConsider[1:], avail) #recurssive implementation\n",
    "    else:\n",
    "        nextItem = toConsider[0]\n",
    "        #Explore left branch\n",
    "        withVal, withToTake = maxVal(toConsider[1:],\n",
    "                                     avail - nextItem.getCost())\n",
    "        withVal += nextItem.getValue()\n",
    "        #Explore right branch\n",
    "        withoutVal, withoutToTake = maxVal(toConsider[1:], avail)\n",
    "        #Choose better branch\n",
    "        if withVal > withoutVal:\n",
    "            result = (withVal, withToTake + (nextItem,))\n",
    "        else:\n",
    "            result = (withoutVal, withoutToTake)\n",
    "    return result\n"
   ]
  },
  {
   "cell_type": "code",
   "execution_count": 8,
   "metadata": {
    "collapsed": true
   },
   "outputs": [],
   "source": [
    "def testMaxVal(inp, maxUnits, printItems = True):\n",
    "    print('Use search tree to allocate a weight of', maxUnits)\n",
    "    val, taken = maxVal(inp, maxUnits)\n",
    "    print('Total value of items taken =', val)\n",
    "    if printItems:\n",
    "        for item in taken:\n",
    "            print('   ', item)"
   ]
  },
  {
   "cell_type": "code",
   "execution_count": 9,
   "metadata": {},
   "outputs": [
    {
     "name": "stdout",
     "output_type": "stream",
     "text": [
      "Use search tree to allocate a weight of 800\n",
      "Total value of items taken = 264\n",
      "    food: <80, 195>\n",
      "    headphones: <79, 150>\n",
      "    iphone: <90, 365>\n",
      "    pencil: <5, 30>\n",
      "    pen: <10, 50>\n"
     ]
    }
   ],
   "source": [
    "inp = buildInput(names, values, weight)\n",
    "testMaxVal(inp, 800)"
   ]
  },
  {
   "cell_type": "markdown",
   "metadata": {},
   "source": [
    "Problems with brute force:\n",
    "\n",
    "1. TIME COMPLEXITY. For real world problems the search space is usually large and if we were to use search trees which have a complexity of 2^(n+1) our program will never stop running."
   ]
  },
  {
   "cell_type": "markdown",
   "metadata": {},
   "source": [
    "Advantages: \n",
    "\n",
    "1. Easy to implement and will find an optimal solution (if it exists)."
   ]
  },
  {
   "cell_type": "markdown",
   "metadata": {},
   "source": [
    "# Approach 3: Dynamic Programming\n"
   ]
  },
  {
   "cell_type": "markdown",
   "metadata": {},
   "source": [
    "In this case we will use memoization to check for a pre-existing solution that we computed earlier and only compute a new one if there is no previous solution. "
   ]
  },
  {
   "cell_type": "code",
   "execution_count": 10,
   "metadata": {
    "collapsed": true
   },
   "outputs": [],
   "source": [
    "def fastMaxVal(toConsider, avail, memo = {}):\n",
    "    \"\"\"Assumes toConsider a list of subjects, avail a weight\n",
    "         memo supplied by recursive calls\n",
    "       Returns a tuple of the total value of a solution to the\n",
    "         0/1 knapsack problem and the subjects of that solution\"\"\"\n",
    "    if (len(toConsider), avail) in memo:\n",
    "        result = memo[(len(toConsider), avail)]\n",
    "    elif toConsider == [] or avail == 0:\n",
    "        result = (0, ())\n",
    "    elif toConsider[0].getCost() > avail:\n",
    "        #No need to explore left branch only look at right branch\n",
    "        result = fastMaxVal(toConsider[1:], avail, memo)\n",
    "    else:\n",
    "        nextItem = toConsider[0]\n",
    "        #Explore left branch\n",
    "        withVal, withToTake =\\\n",
    "                 fastMaxVal(toConsider[1:],\n",
    "                            avail - nextItem.getCost(), memo)\n",
    "        withVal += nextItem.getValue()\n",
    "        #Explore right branch\n",
    "        withoutVal, withoutToTake = fastMaxVal(toConsider[1:],\n",
    "                                                avail, memo)\n",
    "        #Choose better branch\n",
    "        if withVal > withoutVal:\n",
    "            result = (withVal, withToTake + (nextItem,))\n",
    "        else:\n",
    "            result = (withoutVal, withoutToTake)\n",
    "    memo[(len(toConsider), avail)] = result\n",
    "    return result\n",
    "\n"
   ]
  },
  {
   "cell_type": "code",
   "execution_count": 11,
   "metadata": {
    "collapsed": true
   },
   "outputs": [],
   "source": [
    "def testMaxVal(inp, maxUnits, algorithm, printItems = True):\n",
    "    print('Input contains', len(inp), 'items')\n",
    "    print('Use search tree to allocate a weight of', maxUnits)\n",
    "    val, taken = algorithm(inp, maxUnits)\n",
    "    if printItems:\n",
    "        print('Total value of items taken =', val)\n",
    "        for item in taken:\n",
    "            print('   ', item)"
   ]
  },
  {
   "cell_type": "markdown",
   "metadata": {},
   "source": [
    "Building a bigger input list to show DP's use case"
   ]
  },
  {
   "cell_type": "code",
   "execution_count": 12,
   "metadata": {
    "collapsed": true
   },
   "outputs": [],
   "source": [
    "import random\n",
    "\n",
    "def buildHugeInput(numItems, maxVal, maxCost):\n",
    "    items = []\n",
    "    for i in range(numItems):\n",
    "        items.append(Knap(str(i),\n",
    "                          random.randint(1, maxVal),\n",
    "                          random.randint(1, maxCost)))\n",
    "    return items"
   ]
  },
  {
   "cell_type": "code",
   "execution_count": 13,
   "metadata": {},
   "outputs": [
    {
     "name": "stdout",
     "output_type": "stream",
     "text": [
      "Input contains 50 items\n",
      "Use search tree to allocate a weight of 800\n",
      "Total value of items taken = 1345\n",
      "    31: <367, 99>\n",
      "    19: <978, 621>\n"
     ]
    }
   ],
   "source": [
    "inp = buildHugeInput(50,1000,3000)\n",
    "testMaxVal(inp, 800, fastMaxVal, True)"
   ]
  },
  {
   "cell_type": "markdown",
   "metadata": {},
   "source": [
    "Problems with DP:\n",
    "\n",
    "1. Will only work when it's two criteria's of optimal substructure and overlapping subproblems are met.\n",
    "2. For some problems if every option is a new answer then it is as good as brute force"
   ]
  },
  {
   "cell_type": "markdown",
   "metadata": {},
   "source": [
    "Advatages:\n",
    "\n",
    "1. When it's conditions are met, it can help decrease the run time drastically.\n",
    "    "
   ]
  }
 ],
 "metadata": {
  "kernelspec": {
   "display_name": "Python 3",
   "language": "python",
   "name": "python3"
  },
  "language_info": {
   "codemirror_mode": {
    "name": "ipython",
    "version": 3
   },
   "file_extension": ".py",
   "mimetype": "text/x-python",
   "name": "python",
   "nbconvert_exporter": "python",
   "pygments_lexer": "ipython3",
   "version": "3.6.3"
  }
 },
 "nbformat": 4,
 "nbformat_minor": 2
}
